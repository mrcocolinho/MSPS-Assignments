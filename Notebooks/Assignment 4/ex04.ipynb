{
 "cells": [
  {
   "cell_type": "code",
   "execution_count": 1,
   "metadata": {},
   "outputs": [
    {
     "data": {
      "text/html": [
       "<style>\n",
       "@font-face {\n",
       "    font-family: \"Computer Modern\";\n",
       "    src: url('http://9dbb143991406a7c655e-aa5fcb0a5a4ec34cff238a2d56ca4144.r56.cf5.rackcdn.com/cmunss.otf');\n",
       "}\n",
       "@font-face {\n",
       "    font-family: \"Computer Modern\";\n",
       "    font-weight: bold;\n",
       "    src: url('http://9dbb143991406a7c655e-aa5fcb0a5a4ec34cff238a2d56ca4144.r56.cf5.rackcdn.com/cmunsx.otf');\n",
       "}\n",
       "@font-face {\n",
       "    font-family: \"Computer Modern\";\n",
       "    font-style: oblique;\n",
       "    src: url('http://9dbb143991406a7c655e-aa5fcb0a5a4ec34cff238a2d56ca4144.r56.cf5.rackcdn.com/cmunsi.otf');\n",
       "}\n",
       "@font-face {\n",
       "    font-family: \"Computer Modern\";\n",
       "    font-weight: bold;\n",
       "    font-style: oblique;\n",
       "    src: url('http://9dbb143991406a7c655e-aa5fcb0a5a4ec34cff238a2d56ca4144.r56.cf5.rackcdn.com/cmunso.otf');\n",
       "}\n",
       "div.cell{\n",
       "    width:1000px;\n",
       "    margin-left:4% !important;\n",
       "    margin-right:auto;\n",
       "}\n",
       "\n",
       "/* Change global font size (for code) */\n",
       ".CodeMirror {\n",
       "font-size: 11pt !important;\n",
       "/*font-family: monospace;*/\n",
       "}\n",
       "h1 {\n",
       "    font-family: Helvetica, serif;\n",
       "}\n",
       "h4{\n",
       "    margin-top:12px;\n",
       "    margin-bottom: 3px;\n",
       "}\n",
       "\n",
       "div.text_cell_render{\n",
       "    font-family: \"Computer Modern\", \"Helvetica Neue\", Arial, Helvetica, Geneva, sans-serif;\n",
       "    line-height: 160%;\n",
       "    font-size: 115%;\n",
       "    width:850px;\n",
       "    margin-left:auto;\n",
       "    margin-right:900px;\n",
       "}\n",
       ".CodeMirror{\n",
       "    font-family: \"Source Code Pro\", source-code-pro,Consolas, monospace;\n",
       "}\n",
       "/*.prompt{\n",
       "    display: None;\n",
       "}*/\n",
       ".text_cell_render h5 {\n",
       "    font-weight: 300;\n",
       "    font-size: 22pt;\n",
       "    color: #4057A1;\n",
       "    font-style: italic;\n",
       "    margin-bottom: .5em;\n",
       "    margin-top: 0.5em;\n",
       "    display: block;\n",
       "}\n",
       "\n",
       ".warning{\n",
       "    color: rgb( 240, 20, 20 )\n",
       "}\n",
       "/* Highlight boxes */\n",
       ".jp-RenderedHTMLCommon .alert-info {\n",
       "    color: var(--jp-info-color0);\n",
       "    color: #004E57; /* better contrast */\n",
       "    background-color: var(--jp-info-color3);\n",
       "    border-color: var(--jp-info-color2);\n",
       "}\n",
       "/* Footnotes style */\n",
       ".footnote {\n",
       "    font-size: 80%;\n",
       "}\n",
       "/*\n",
       " * Markdown autonumber headers (see https://stackoverflow.com/questions/19999696/are-numbered-headings-in-markdown-rdiscount-possible)\n",
       " */\n",
       "body {\n",
       "    counter-reset: h1 h2 h3 h4;\n",
       "    /* h2 NEEDED! this makes sure the scope of h2 is kind of global */\n",
       "}\n",
       "\n",
       "h1 {\n",
       "    counter-increment: h1;\n",
       "    counter-set: h2;\n",
       "}\n",
       "\n",
       "h2 {\n",
       "    counter-increment: h2;\n",
       "    counter-set: h3; /*I've got no idea why this works and counter-reset not...*/\n",
       "}\n",
       "\n",
       "h3 {\n",
       "    counter-increment: h3;\n",
       "    counter-set: h4;\n",
       "}\n",
       "\n",
       "h2:before {\n",
       "    content: counter(h2) \" \";\n",
       "}\n",
       "\n",
       "h3:before {\n",
       "    content: counter(h2) \".\" counter(h3) \". \"\n",
       "}\n",
       "\n",
       "h4:before {\n",
       "    content: counter(h2) \".\" counter(h3) \".\" counter(h4) \". \"\n",
       "}\n",
       "</style>\n"
      ],
      "text/plain": [
       "<IPython.core.display.HTML object>"
      ]
     },
     "execution_count": 1,
     "metadata": {},
     "output_type": "execute_result"
    }
   ],
   "source": [
    "%matplotlib inline\n",
    "\n",
    "'''\n",
    "Use %matplotlib inline instead of %matplotlib widget when preparing the final report. \n",
    "Otherwise the images are, unfortunately, not embedded in the pdf. \n",
    "'''\n",
    "from importstatements import *\n",
    "css_styling()"
   ]
  },
  {
   "cell_type": "markdown",
   "metadata": {},
   "source": [
    "$\n",
    "\\newcommand{\\fsamp}{{F_s}}\n",
    "\\newcommand{\\tsamp}{{T_s}}\n",
    "\\newcommand{\\unit}[1]{\\text{\\,#1}}\n",
    "\\newcommand{\\tmidx}{n}\n",
    "\\newcommand{\\tds}[2][\\tmidx]{{#2(#1)}}\n",
    "\\newcommand{\\matcmd}[2][(\\cdot)]{\\texttt{#2}#1}\n",
    "\\renewcommand{\\matcmd}[2][(\\cdot)]{\\mathrm{#2}#1}\n",
    "\\newcommand{\\fcn}[1]{{\\text{#1}}}\n",
    "\\newcommand{\\bigcb}[1]{{\\big\\{#1\\big\\}}} \n",
    "\\newcommand{\\Bigcb}[1]{{\\Big\\{#1\\Big\\}}}\n",
    "\\newcommand{\\bigsb}[1]{{\\big[#1\\big]}} \n",
    "\\newcommand{\\Bigsb}[1]{{\\Big[#1\\Big]}}\n",
    "\\newcommand{\\biggsb}[1]{{\\bigg[#1\\bigg]}}\n",
    "\\newcommand{\\pyt}{\\matcmd[]{Python}}\n",
    "\\newcommand{\\fds}[2][z]{#2(#1)}\n",
    "\\newcommand{\\zpow}[1][-1]{z^{#1}}\n",
    "\\newcommand{\\cbr}[1]{\\big\\{#1\\big\\}}\n",
    "\\newcommand{\\mat}[1]{\\boldsymbol{#1}}\n",
    "\\newcommand{\\idxa}{k}\n",
    "$\n",
    "\n",
    "# FIR filter design and adaptive filters\n",
    "\n",
    "In this lab session you will become further acquainted with common filtering operations and filters we have seen in the lecture. The contents of this exercise are the following:\n",
    "* design of simple FIR filters by the methods discussed in the lecture \n",
    "* programming a simple adaptive filter to remove an interfering noise from a target signal, when a reference signal of the interference is available.\n",
    "\n",
    "---------\n",
    "\n",
    "## Simple design of FIR filters\n",
    "\n",
    "As seen in the lecture, sometimes, we have the filter impulse response available to us as a closed-form mathematical equation. Then we can directly use this to generate the filter. Let us now look at this way to generate the standard filters we can use in our signal processing tasks. \n",
    "\n",
    "Let us experiment first with a simple low-pass filter (LPF).\n",
    "\n",
    "\n",
    "### Method 1: Sampling the analogue impulse response in time domain\n",
    "\n",
    "<div class=\"alert alert-info\">\n",
    "\n",
    "We shall now write a function `td_lpf(N,BTs)` to design a low-pass filter where\n",
    "    \n",
    "* $2N+1$: is the number of taps of this filter and \n",
    "* `BTs` is the normalised bandwidth of the filter. \n",
    "  \n",
    "Follow the design procedure for the time-domain derivation of the filter (i.e., the impulse response) and the practical implementation as follows:\n",
    "    \n",
    "**Tasks**\n",
    "\n",
    "* Theory: Determine the impulse response of an ideal digital LPF with $H(fT_s) = 1$ in $fT_s \\in (-BT_s/2, BT_s/2)$ and zero beyond (*Tip: calculate the (inverse) Fourier transform of this rectangular function. You should see that this corresponds to a sinc function extending from $n = -\\infty$ to $n = \\infty$*). Write your obtained expression below.\n",
    "    \n",
    "</div>"
   ]
  },
  {
   "cell_type": "markdown",
   "metadata": {},
   "source": [
    "<div class=\"alert alert-success\">\n",
    "    \n",
    "Please write your answer: $\\tds{h} = $\n",
    "\n",
    "</div>"
   ]
  },
  {
   "cell_type": "markdown",
   "metadata": {},
   "source": [
    "<div class=\"alert alert-info\">\n",
    "\n",
    "* Select from these infinite number of taps, an interval of length $2N + 1$ (since we cannot have unlimited length filters in a practical realisation). \n",
    "* Design the filter and plot the resulting impulse and frequency response for `N=128` and `BTs= 1/4`. In order to calculate the frequency response, use the `fft.fft` function.\n",
    "* How can you check your design is correct? Answer briefly why in the space below.\n",
    "    \n",
    "</div>"
   ]
  },
  {
   "cell_type": "code",
   "execution_count": null,
   "metadata": {},
   "outputs": [],
   "source": [
    "# Function\n",
    "def td_lpf(N,BTs):\n",
    "    return h\n",
    "\n",
    "# Plotting of impulse and amplitude response\n"
   ]
  },
  {
   "cell_type": "markdown",
   "metadata": {},
   "source": [
    "<div class=\"alert alert-success\">\n",
    "    \n",
    "How do you verify the correctness of your design?\n",
    "\n",
    "</div>"
   ]
  },
  {
   "cell_type": "markdown",
   "metadata": {},
   "source": [
    "#### Gibbs' phenomenon and its reduction\n",
    "\n",
    "You will observe Gibbs' phenomenon due to the abrupt truncation of the impulse response. We know that windowing the truncated impulse response with a smoothly tapering windown can reduce this effect. \n",
    "\n",
    "<div class=\"alert alert-info\">\n",
    "\n",
    "* Consequently: modify your previous function to apply a von Hann window. Call this new function `td_lpf_win(N,BTs)`\n",
    "* Re-design the previous LPF with this new function, compare the impulse and amplitude response obtained with that of the previous design. Note your observations regarding the differences in:\n",
    "    * width of passband and stopband\n",
    "    * behaviour of the impulse response\n",
    "* What do you think would be the phase response of these filters? Will they be linear phase? Justify your answer (without actually plotting the phase response!)\n",
    "* Are the designed filters causal? Justify!\n",
    "    \n",
    "</div>    "
   ]
  },
  {
   "cell_type": "code",
   "execution_count": null,
   "metadata": {},
   "outputs": [],
   "source": [
    "# Function\n",
    "def td_lpf_win(N,BTs):\n",
    "    return hWin\n",
    "\n",
    "# Example filter design for given specifications\n",
    "# Plotting of impulse and amplitude response\n",
    "\n",
    "# Comparison with `td_lpf`\n"
   ]
  },
  {
   "cell_type": "markdown",
   "metadata": {},
   "source": [
    "<div class=\"alert alert-success\">\n",
    "    \n",
    "* Notes on comparison of the windowed and non-windowed LPF design.\n",
    "* Discussion on the nature of the phase response\n",
    "* Comments on the causal/non-causal nature of the impulse response\n",
    "\n",
    "</div>    "
   ]
  },
  {
   "cell_type": "markdown",
   "metadata": {},
   "source": [
    "### Method 2: FIR filter design by frequency response sampling\n",
    "\n",
    "Now we shall obtain the filter impulse response by directly sampling the desired filter characteristics in the frequency domain. This allows us to design filters where no closed-form equation can be obtained for the impulse response. We shall also see, here, what the pitfalls of this simple approach are and how to avoid them.\n",
    "\n",
    "We shall write a function `fd_lpf(N,BTs)` to design a low-pass filter where:\n",
    "\n",
    "* Now, $2N$ is the number of taps of this filter (note difference with time-domain) and \n",
    "* `BTs` is the normalised bandwidth of the filter. We are only concerned with the amplitude response in this case. Follow the design procedure below: \n",
    "\n",
    "<div class=\"alert alert-info\"> \n",
    "    \n",
    "**Task**\n",
    "\n",
    "* The basic idea is to sample the desired amplitude response in $fT_s\\in[0,1/2]$ using $N+1$ *equispaced* sampling points on the frequency axis. Note that both $f=0$ and $f=F_s/2$ should be sampled. This forms the $(N+1)$-point discrete version of the desired amplitude spectrum for the positive frequencies. \n",
    "* What is the (normalised) frequency interval $\\Delta_{f}T_s$ between two sampling points?\n",
    "    \n",
    "</div>    "
   ]
  },
  {
   "cell_type": "markdown",
   "metadata": {},
   "source": [
    "<div class=\"alert alert-success\">\n",
    "    \n",
    "(Normalised) frequency interval between 2 sampling points is:\n",
    "    \n",
    "</div>"
   ]
  },
  {
   "cell_type": "markdown",
   "metadata": {},
   "source": [
    "<div class=\"alert alert-info\">\n",
    "    \n",
    "* Now, form the amplitude spectrum for the $N-1$ *negative* frequencies $fT_s\\in[-\\Delta_fT_s,-1/2+\\Delta_fT_s]$ by using the properties of the Fourier transform $X(-f)=X^{\\ast}(f)$ for real-valued signals.\n",
    "* Since we will use the IDFT to compute the inverse transform of this spectrum, place the negative frequency elements in the right place for computing the IDFT: i.e. $X(-k)=X(2N-k)$. This should give you an $2N-$ dimensional vector. Compute the IDFT of this vector. If you have done everything correctly, this should be purely real-valued.\n",
    "* Ideally, this should be the impulse response you are looking for.\n",
    "\n",
    "First write the function `fd_lpf(N,BTs)` based on this schematic.   \n",
    "    \n",
    "</div>"
   ]
  },
  {
   "cell_type": "code",
   "execution_count": null,
   "metadata": {},
   "outputs": [],
   "source": [
    "# Function for the frequency sampled filter design\n",
    "# Some check-points to ensure you are going in the correct direction\n",
    "# - Is N a power of 2? (Efficient for the (i)FFT computations)\n",
    "# - Is the length of the frequency domain vector that you generated the same as N?\n",
    "\n",
    "\n",
    "def fd_lpf(N,BTs):\n",
    "    \n",
    "    return h\n",
    "\n"
   ]
  },
  {
   "cell_type": "markdown",
   "metadata": {},
   "source": [
    "<div class=\"alert alert-info\">\n",
    "    \n",
    "* Design the filter based on your code for $BTs=0.25$ and $N=128$. Plot the amplitude and impulse response. Verify your design is correct.\n",
    "    \n",
    "</div>"
   ]
  },
  {
   "cell_type": "code",
   "execution_count": null,
   "metadata": {},
   "outputs": [],
   "source": [
    "# Code: design and verification of the filter design using the \n",
    "# frequency sampling approach\n"
   ]
  },
  {
   "cell_type": "markdown",
   "metadata": {},
   "source": [
    "<div class=\"alert alert-info\">\n",
    "    \n",
    "* Since we are essentially designing an FIR filter with the same characteristics as in the previous problem (i.e., `td_lpf`), the frequency response and impulse response should be similar. Are they? \n",
    "* Does a comparison of the amplitude response indicate why (if at all) there are deviations?\n",
    "    \n",
    "</div>"
   ]
  },
  {
   "cell_type": "markdown",
   "metadata": {},
   "source": [
    "<div class=\"alert alert-success\">\n",
    "    \n",
    "* Comparison of frequency sampling vs time-domain design. Is the impulse response the same. (or similar to) the `td_lpf` design?\n",
    "* What about the amplitude response?\n",
    "* Why do you think there are deviations (if any) between the `fd_lpf` and the `td_lpf` output?\n",
    "\n",
    "</div>    "
   ]
  },
  {
   "cell_type": "markdown",
   "metadata": {},
   "source": [
    "This behaviour is because the filter returned by the IDFT is an acausal filter, but, because the IDFT also results in a periodic repetition of the signal along the time-axis, the filter coefficients $h(-n)$ for *negative time indices* are given by coefficients $h(N-n)$. Therefore, we need to *rotate* the resulting filter by $N/2$ to obtain a causal filter of the true form. A way to do this is to use the command `fftshift` after the inverse DFT on the time-domain filter.\n",
    "\n",
    "<div class=\"alert alert-info\">\n",
    "    \n",
    "* Plot the impulse response of the filter after the rotation. Verify that the amplitude response has not changed. \n",
    "    \n",
    "</div>    "
   ]
  },
  {
   "cell_type": "code",
   "execution_count": null,
   "metadata": {},
   "outputs": [],
   "source": [
    "# Impulse and amplitude response of \"time-rotated\" filter\n"
   ]
  },
  {
   "cell_type": "markdown",
   "metadata": {},
   "source": [
    "<div class=\"alert alert-info\">\n",
    "    \n",
    "* What do you now conclude between the frequency-sampling and the time-domain design?\n",
    "* Also: is the LPF filter you designed using `fd_lpf` a linear phase filter? Answer without explicitly calculating the phase response. _Tip_ The impulse response of a linear phase filter has symmetry about its center. Think carefully about this!\n",
    "    \n",
    "</div>"
   ]
  },
  {
   "cell_type": "markdown",
   "metadata": {},
   "source": [
    "<div class=\"alert alert-success\">\n",
    "    \n",
    "* Your answer/observations \n",
    "    \n",
    "</div>"
   ]
  },
  {
   "cell_type": "markdown",
   "metadata": {},
   "source": [
    "#### Reducing Gibbs' phenomenon\n",
    "\n",
    "You will note that this filter design still shows oscillations at the transition regions. We saw, in the lecture, that this is related to the sharp transitions between the stopband and passband. We also saw two means to mitigate this: (1) by windowing the impulse response and (2) by making the transition soft in the desired frequency response (i.e., by modifying the $H(fT_s)$ directly to have a broader transition band. \n",
    "\n",
    "\n",
    "<div class=\"alert alert-info\">   \n",
    "\n",
    "**Task**\n",
    "    \n",
    "* Implement the second method as the function `fd_lpf_soft(N,BTs)` by setting the last sample in the pass-band to 0.8 and first sample in stop-band to 0.2. Do not forget to \"rotate\" the filter after the IDFT. \n",
    "* Compare this filter to that obtained using `td_lpf_win` for the same LPF specifications we have considered so far (impuse and amplitude response). Briefly summarise your observations.  \n",
    "\n",
    "</div>"
   ]
  },
  {
   "cell_type": "code",
   "execution_count": null,
   "metadata": {},
   "outputs": [],
   "source": [
    "# Frequency-domain design with soft transition bands\n",
    "def fd_lpf_soft(N,BTs):\n",
    "    return hSoft\n",
    "\n",
    "# Filter design, amplitude response plot, comparison to `td_lpf_win`\n"
   ]
  },
  {
   "cell_type": "markdown",
   "metadata": {},
   "source": [
    "<div class=\"alert alert-success\">\n",
    "    \n",
    "Observations\n",
    "    \n",
    "</div>"
   ]
  },
  {
   "cell_type": "markdown",
   "metadata": {},
   "source": [
    "-----------\n",
    "\n",
    "## Adaptive filtering for noise cancellation\n",
    "\n",
    "### Getting a feel for an adaptive filter\n",
    "\n",
    "Assume we have a signal $x(n)$ which consists of a desired signal component $s(n)$ and an interfering signal component $v(n)$. The model is: $x(n) = s(n) + v(n)$.\n",
    "\n",
    "Assume, further, that the interfering signal $v(n)$ is generated by an *unknown* system $h^{\\prime}(n)$, acting on the signal $v^{\\prime}(n)$ i.e., $v(n) = h^{\\prime}(n)\\ast v^{\\prime}(n)$. We have the signal $v^{\\prime}(n)$ and we wish to use this to design an adaptive filter to *cancel* $v(n)$ in $x(n)$. \n",
    "\n",
    "\n",
    "1. We define an $M-$tap adaptive filter $\\mathbf{h} = [h_0,h_1,\\ldots,h_{M-1}]$. This is the FIR adaptive filter, which we shall use to estimate the unknown system $h^{\\prime}(n)$\n",
    "2. Start with some initial estimate of $\\mathbf{h}$. E.g., all zeros or all ones or random values. It does not matter.\n",
    "3. Now, iterate through the samples $\\tmidx$ of the signal to adapt the filter. This is done as follows. For *each* sample $\\tmidx$:\n",
    "  1. let $\\tds{\\mat{h}}$ be the *estimate* of the adaptive filter at that time instant.\n",
    "  2. compute the estimate ($\\widehat{v}(n)$) of $\\tds[n]{v}$, i.e, $\\widehat{v}(n) = \\sum_{k}h_{k}(n) \\tds[\\tmidx-\\idxa]{v^{\\prime}}$\n",
    "  3. compute the error signal $\\tds{r} = \\tds[n]{x}-\\widehat{v}(n)$. Note that this error is *biased* by the desired signal component $\\tds[n]{s}$. However, since $\\tds[n]{s}$ and $\\tds[n]{v}$ are usually uncorrelated with each other, this bias usually does not affect the estimate of $h^{\\prime}(n)$ much if a small step-size is chosen in the update rule.\n",
    "  4. by the method of stochastic gradient (specifically, NMLS), use this error signal to compute the updated filter $\\tds[\\tmidx+1]{{\\mat{h}}}$, to be used for the next sample. **Tip:** Take proper precautions to prevent divide-by-zero errors!\n",
    "  4. The quality of the estimate $\\widehat{\\mat{h}}$ and the resulting output signal $\\tds{\\widehat{s}} = \\tds{r}$ depends, quite strongly, on the parameters chosen for the NLMS. These parameters are: the stepsize $\\alpha$ and the filter length $M$. You might need to play with these to get the best results.\n",
    "\n",
    "<div class=\"alert alert-info\">\n",
    "\n",
    "**Task**\n",
    "    \n",
    "Implement the code for such a filter based on the above steps. The filter should receive as input the entire signal $\\tds{x}$, $\\tds{v^{\\prime}}$, $\\alpha$ and $M$. It should output the estimate of the unknown system $\\mat{h}$ and the enhanced signal $\\tds{\\widehat{s}} = \\tds{r}$.  \n",
    "\n",
    "Use the code template given below. To make it even easier (lucky you!) some kind soul has written most of the code. You only have to fill in the missing signals (indicated by \\<??\\>).\n",
    "    \n",
    "</div>\n",
    "    \n",
    "_Tip:_ Our goal here is _identical_ to what we have seen in the lecture. So, as a first step, relate the signal variables given here to the signal variables of the condition we considered in the lecture. Sketching a block diagram may help.\n",
    "    \n",
    "\n",
    " "
   ]
  },
  {
   "cell_type": "code",
   "execution_count": null,
   "metadata": {},
   "outputs": [],
   "source": [
    "def NLMSCanceller(x, vprime, alpha, M):\n",
    "\n",
    "    N = len(x) # Number of samples in the signal.\n",
    "    hEst = np.zeros(M) # Initialising the filter with zeros\n",
    "    sEst = np.empty(N)  # Estimation of the enhanced output signal\n",
    "    vHat = np.empty(N)  # Estimation of the interference\n",
    "    \n",
    "    # Ensure that vprime and x are of same length. If not, extend the shorter\n",
    "    # signal with zeros to match the length of the longer signal.\n",
    "    \n",
    "    \n",
    "    # Process loop\n",
    "    \n",
    "    # Iterate through the signal, sample by sample\n",
    "\n",
    "    sigBuf = np.zeros(M) # This is the buffer for the signal that will be filtered by hEst.\n",
    "    # Since hEst is an FIR filter and because the convolution will be done sample-by-sample, it is easy to\n",
    "    # represent the signals as vectors since the sample-wise convolution is simply a vector inner product.\n",
    "    # In this buffer notation, the last samples in the buffer correspond to the \"oldest\" samples and the first samples\n",
    "    # correspond to the most recent samples.\n",
    "    # You are free to implement it differently!\n",
    "    \n",
    "    for sampC in range(N):\n",
    "        # Add the new sample to the start of the reference signal buffer\n",
    "        sigBuf[1:M] = sigBuf[0:M-1]\n",
    "        sigBuf[0] = <??>[sampC] # Fill in the correct signal to be used here.\n",
    "\n",
    "        # Filter this signal buffer with the filter hEst. Since we are doing this sample by sample,\n",
    "        # the filtering is simply an inner product of the vectors hEst and sigBuf. Implement this inner product\n",
    "        # using the dot() operator of a numpy array\n",
    "        vHat[sampC] =  # <dot product of hEst and sigBuf> \n",
    "\n",
    "        # Compute the error signal\n",
    "        sEst[sampC] = \n",
    "\n",
    "        # Update the filter. Take proper care to ensure that no divde-by-zero errors can occur\n",
    "        # Some variables in the code below are missing. Fill them in. \n",
    "        # The expression below updates all samples of the filter at once (benefit of vector operations).\n",
    "        # If you are not comfortable with this, feel free to re-write this for updating each tap of the filter separately.\n",
    "        hEst = hEst + 2*alpha*sEst[sampC]*(<??>)/(<??>)\n",
    "\n",
    "    return hEst, sEst"
   ]
  },
  {
   "cell_type": "markdown",
   "metadata": {},
   "source": [
    "### Sanity check on the implementation\n",
    "\n",
    "In practice, before we deploy our algorithms in the \"wild\", we should appropriately test our implementations on data where we _know what the correct result should be_. This will convince us of the \"correctness\" of our implementation and alert us to any problems in our algorithm. Let us do the same for the adaptive filter we just designed.\n",
    "\n",
    "<div class=\"alert alert-info\">\n",
    "\n",
    "1. Generate a signal `vprime = np.random.randn(10000)`\n",
    "2. Generate the signal $\\matcmd[]{x}$ as: `x = np.append(np.zeros(3), vprime[:-3])`\n",
    "    \n",
    "</div>"
   ]
  },
  {
   "cell_type": "code",
   "execution_count": null,
   "metadata": {},
   "outputs": [],
   "source": [
    "# Code cell"
   ]
  },
  {
   "cell_type": "markdown",
   "metadata": {},
   "source": [
    "<div class=\"alert alert-info\">    \n",
    "Now answer the following questions:\n",
    "\n",
    "1. You can clearly see, in step 2 above, that $\\tds{x}$ is a filtered version of $\\tds{v^{\\prime}}$. What filter $\\tds{h^{\\prime}}$ does this correspond to?\n",
    "2. What should you obtain as $\\matcmd[]{hEst}$ in the ideal case?\n",
    "3. What should $\\matcmd[]{sEst}$ be, if the filter correctly estimated?\n",
    "    \n",
    "</div>    "
   ]
  },
  {
   "cell_type": "markdown",
   "metadata": {},
   "source": [
    "<div class=\"alert alert-success\">\n",
    "    \n",
    "Your answer/observations/conclusions here.\n"
   ]
  },
  {
   "cell_type": "markdown",
   "metadata": {},
   "source": [
    "<div class=\"alert alert-info\">\n",
    "    \n",
    "4. Apply your `NLMSCanceller()` function to this data. Plot your results ($\\matcmd[]{hEst}$ and $\\matcmd[]{sEst}$) for $\\alpha=\\cbr{0.1,0.25,0.5}$. Comment on the results.\n",
    "    \n",
    "</div>"
   ]
  },
  {
   "cell_type": "code",
   "execution_count": null,
   "metadata": {},
   "outputs": [],
   "source": [
    "# Test of the NLMSCanceller()\n"
   ]
  },
  {
   "cell_type": "markdown",
   "metadata": {},
   "source": [
    "### Application to real data\n",
    "\n",
    "Satisfied that we have now implemented the adaptive filter correctly, we shall now apply this to real data (speech corrupted by \"echo\").\n",
    "\n",
    "1. Load `adaptive_filter.npz`\n",
    "2. The variables should be as follows:\n",
    "  1. $\\matcmd[]{x}$: The signal we want to denoise ($x(n) = s(n) + v(n)$)\n",
    "  2. $\\matcmd[]{vprime}$: The reference signal for noise ($v^{\\prime}(n)$)\n",
    "  3. $\\matcmd[]{fs}$: The sampling frequency (required to write the processed file as a `.wav` file)"
   ]
  },
  {
   "cell_type": "code",
   "execution_count": null,
   "metadata": {},
   "outputs": [],
   "source": [
    "AdaptFiltData = np.load('ex04_nlms_canceller.npz')\n",
    "print(AdaptFiltData.files) # Tells you the variables in this file. \n",
    "# The output should be\n",
    "# ['x', 'vprime', 'fs', 's']\n",
    "# The clean signal 's' is the true underlying clean signal and can be used to \n",
    "# compare the quality of your implementation.\n",
    "# 'fs' is the sampling frequency (required to write your output to a .wav file)\n",
    "\n",
    "x = AdaptFiltData['x']\n",
    "vprime = AdaptFiltData['vprime']\n",
    "s = AdaptFiltData['s']\n",
    "fs = AdaptFiltData['fs']\n",
    "\n",
    "print(x.size, vprime.size) # See if the signals are the same size.  "
   ]
  },
  {
   "cell_type": "markdown",
   "metadata": {},
   "source": [
    "<div class=\"alert alert-info\">\n",
    "\n",
    "**Tasks**\n",
    "    \n",
    "1. Select a suitable $M$ and $\\alpha$. Selection of these parameters is termed _hyperparameter_ tuning and usually is done by some trial and error. Also, for such applications, the selection of the best parameters is usually a _trade-off_ between the amount of suppression of the unwanted signal and the distortion introduced in the target signal.\n",
    "2. Process the signal and listen to it (`ipd.Audio(sEst,rate=np.int(fs))` could be a useful function. Alternatively, write your output to a .wav file and listen using any openly available audio processing tool (e.g., Audacity, Ocenaudio,...)). Based on your critical listening, decide the best $M$ and $\\alpha$.\n",
    "3. State the reasons behind your choice of best $M$ and $\\alpha$. \n",
    "4. Include your processed file (with the selected $M$ and $\\alpha$) in the deliverable as: `group_xx_sEst.wav`\n",
    "    \n",
    "</div>"
   ]
  },
  {
   "cell_type": "code",
   "execution_count": null,
   "metadata": {},
   "outputs": [],
   "source": [
    "# Example to listen to an audio fragment...\n",
    "ipd.Audio(vprime,rate=np.int(fs))"
   ]
  },
  {
   "cell_type": "code",
   "execution_count": null,
   "metadata": {},
   "outputs": [],
   "source": [
    "# Process the audio\n",
    "# Find optimal M, alpha \n",
    "# For M: start with M = 20 and increase in steps of e.g. 10 until M = 150)\n",
    "# For alpha consider values such as 0.01,0.1, 0.2, ...\n",
    "\n",
    "# Listen to the outputs if you want to\n",
    "ipd.Audio(sEst,rate=np.int(fs))\n",
    "\n",
    "# When you have the best set of parameters, generate the best output and write to wavfile. \n",
    "# Use the line below (after uncommenting, of course!)\n",
    "# wavfile.write('group_xx_sEst.wav',fs,sEst)"
   ]
  },
  {
   "cell_type": "markdown",
   "metadata": {},
   "source": [
    "<div class=\"alert alert-success\">\n",
    "    \n",
    "Best `M` :\n",
    " \n",
    "Best `alpha`:\n",
    "    \n",
    "Why do you think these are the best?\n",
    "    \n",
    "</div>"
   ]
  }
 ],
 "metadata": {
  "kernelspec": {
   "display_name": "Python 3 (ipykernel)",
   "language": "python",
   "name": "python3"
  },
  "language_info": {
   "codemirror_mode": {
    "name": "ipython",
    "version": 3
   },
   "file_extension": ".py",
   "mimetype": "text/x-python",
   "name": "python",
   "nbconvert_exporter": "python",
   "pygments_lexer": "ipython3",
   "version": "3.9.13"
  }
 },
 "nbformat": 4,
 "nbformat_minor": 4
}
